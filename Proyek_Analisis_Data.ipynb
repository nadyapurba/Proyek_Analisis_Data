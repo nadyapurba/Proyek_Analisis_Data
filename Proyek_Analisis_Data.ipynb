{
  "cells": [
    {
      "cell_type": "markdown",
      "metadata": {
        "id": "H9wADwK78DCz"
      },
      "source": [
        "# Proyek Analisis Data: Bike Sharing Dataset\n",
        "- **Nama:** Nadya Ruth Enina Purba\n",
        "- **Email:** nadyapurba1801@gmail.com\n",
        "- **ID Dicoding:** nadyapurba"
      ]
    },
    {
      "cell_type": "markdown",
      "metadata": {
        "id": "eE0raob58DC0"
      },
      "source": [
        "## Menentukan Pertanyaan Bisnis"
      ]
    },
    {
      "cell_type": "markdown",
      "metadata": {
        "id": "GmQeQ5YF8DC0"
      },
      "source": [
        "- Bagaimana distribusi penyewaan sepeda berdasarkan waktu pada hari kerja dan hari libur?\n",
        "\n",
        "- Apakah ada perbedaan pola penyewaan sepeda antara hari kerja dan hari libur?"
      ]
    },
    {
      "cell_type": "markdown",
      "metadata": {
        "id": "H-z4QGlO8DC1"
      },
      "source": [
        "## Import Semua Packages/Library yang Digunakan"
      ]
    },
    {
      "cell_type": "code",
      "execution_count": 2,
      "metadata": {
        "id": "FVYwaObI8DC1"
      },
      "outputs": [],
      "source": [
        "import pandas as pd\n",
        "import matplotlib.pyplot as plt\n",
        "import numpy as np\n",
        "import seaborn as sns"
      ]
    },
    {
      "cell_type": "markdown",
      "metadata": {
        "id": "h_Sh51Xy8DC1"
      },
      "source": [
        "## Data Wrangling"
      ]
    },
    {
      "cell_type": "markdown",
      "metadata": {
        "id": "sXU2GBYu8DC1"
      },
      "source": [
        "### Gathering Data"
      ]
    },
    {
      "cell_type": "markdown",
      "metadata": {
        "id": "4XIF_EI8tBgj"
      },
      "source": [
        "- upload dataset\n",
        "- tampilkan data yang ada di dataset"
      ]
    },
    {
      "cell_type": "code",
      "execution_count": 3,
      "metadata": {
        "colab": {
          "base_uri": "https://localhost:8080/",
          "height": 423
        },
        "id": "zjCBk1BI8DC1",
        "outputId": "27b06aaf-86cf-47eb-a0d3-9424e48138c0"
      },
      "outputs": [
        {
          "data": {
            "text/html": [
              "<div>\n",
              "<style scoped>\n",
              "    .dataframe tbody tr th:only-of-type {\n",
              "        vertical-align: middle;\n",
              "    }\n",
              "\n",
              "    .dataframe tbody tr th {\n",
              "        vertical-align: top;\n",
              "    }\n",
              "\n",
              "    .dataframe thead th {\n",
              "        text-align: right;\n",
              "    }\n",
              "</style>\n",
              "<table border=\"1\" class=\"dataframe\">\n",
              "  <thead>\n",
              "    <tr style=\"text-align: right;\">\n",
              "      <th></th>\n",
              "      <th>instant</th>\n",
              "      <th>dteday</th>\n",
              "      <th>season</th>\n",
              "      <th>yr</th>\n",
              "      <th>mnth</th>\n",
              "      <th>hr</th>\n",
              "      <th>holiday</th>\n",
              "      <th>weekday</th>\n",
              "      <th>workingday</th>\n",
              "      <th>weathersit</th>\n",
              "      <th>temp</th>\n",
              "      <th>atemp</th>\n",
              "      <th>hum</th>\n",
              "      <th>windspeed</th>\n",
              "      <th>casual</th>\n",
              "      <th>registered</th>\n",
              "      <th>cnt</th>\n",
              "    </tr>\n",
              "  </thead>\n",
              "  <tbody>\n",
              "    <tr>\n",
              "      <th>0</th>\n",
              "      <td>1</td>\n",
              "      <td>2011-01-01</td>\n",
              "      <td>1</td>\n",
              "      <td>0</td>\n",
              "      <td>1</td>\n",
              "      <td>0</td>\n",
              "      <td>0</td>\n",
              "      <td>6</td>\n",
              "      <td>0</td>\n",
              "      <td>1</td>\n",
              "      <td>0.24</td>\n",
              "      <td>0.2879</td>\n",
              "      <td>0.81</td>\n",
              "      <td>0.0000</td>\n",
              "      <td>3</td>\n",
              "      <td>13</td>\n",
              "      <td>16</td>\n",
              "    </tr>\n",
              "    <tr>\n",
              "      <th>1</th>\n",
              "      <td>2</td>\n",
              "      <td>2011-01-01</td>\n",
              "      <td>1</td>\n",
              "      <td>0</td>\n",
              "      <td>1</td>\n",
              "      <td>1</td>\n",
              "      <td>0</td>\n",
              "      <td>6</td>\n",
              "      <td>0</td>\n",
              "      <td>1</td>\n",
              "      <td>0.22</td>\n",
              "      <td>0.2727</td>\n",
              "      <td>0.80</td>\n",
              "      <td>0.0000</td>\n",
              "      <td>8</td>\n",
              "      <td>32</td>\n",
              "      <td>40</td>\n",
              "    </tr>\n",
              "    <tr>\n",
              "      <th>2</th>\n",
              "      <td>3</td>\n",
              "      <td>2011-01-01</td>\n",
              "      <td>1</td>\n",
              "      <td>0</td>\n",
              "      <td>1</td>\n",
              "      <td>2</td>\n",
              "      <td>0</td>\n",
              "      <td>6</td>\n",
              "      <td>0</td>\n",
              "      <td>1</td>\n",
              "      <td>0.22</td>\n",
              "      <td>0.2727</td>\n",
              "      <td>0.80</td>\n",
              "      <td>0.0000</td>\n",
              "      <td>5</td>\n",
              "      <td>27</td>\n",
              "      <td>32</td>\n",
              "    </tr>\n",
              "    <tr>\n",
              "      <th>3</th>\n",
              "      <td>4</td>\n",
              "      <td>2011-01-01</td>\n",
              "      <td>1</td>\n",
              "      <td>0</td>\n",
              "      <td>1</td>\n",
              "      <td>3</td>\n",
              "      <td>0</td>\n",
              "      <td>6</td>\n",
              "      <td>0</td>\n",
              "      <td>1</td>\n",
              "      <td>0.24</td>\n",
              "      <td>0.2879</td>\n",
              "      <td>0.75</td>\n",
              "      <td>0.0000</td>\n",
              "      <td>3</td>\n",
              "      <td>10</td>\n",
              "      <td>13</td>\n",
              "    </tr>\n",
              "    <tr>\n",
              "      <th>4</th>\n",
              "      <td>5</td>\n",
              "      <td>2011-01-01</td>\n",
              "      <td>1</td>\n",
              "      <td>0</td>\n",
              "      <td>1</td>\n",
              "      <td>4</td>\n",
              "      <td>0</td>\n",
              "      <td>6</td>\n",
              "      <td>0</td>\n",
              "      <td>1</td>\n",
              "      <td>0.24</td>\n",
              "      <td>0.2879</td>\n",
              "      <td>0.75</td>\n",
              "      <td>0.0000</td>\n",
              "      <td>0</td>\n",
              "      <td>1</td>\n",
              "      <td>1</td>\n",
              "    </tr>\n",
              "    <tr>\n",
              "      <th>...</th>\n",
              "      <td>...</td>\n",
              "      <td>...</td>\n",
              "      <td>...</td>\n",
              "      <td>...</td>\n",
              "      <td>...</td>\n",
              "      <td>...</td>\n",
              "      <td>...</td>\n",
              "      <td>...</td>\n",
              "      <td>...</td>\n",
              "      <td>...</td>\n",
              "      <td>...</td>\n",
              "      <td>...</td>\n",
              "      <td>...</td>\n",
              "      <td>...</td>\n",
              "      <td>...</td>\n",
              "      <td>...</td>\n",
              "      <td>...</td>\n",
              "    </tr>\n",
              "    <tr>\n",
              "      <th>17374</th>\n",
              "      <td>17375</td>\n",
              "      <td>2012-12-31</td>\n",
              "      <td>1</td>\n",
              "      <td>1</td>\n",
              "      <td>12</td>\n",
              "      <td>19</td>\n",
              "      <td>0</td>\n",
              "      <td>1</td>\n",
              "      <td>1</td>\n",
              "      <td>2</td>\n",
              "      <td>0.26</td>\n",
              "      <td>0.2576</td>\n",
              "      <td>0.60</td>\n",
              "      <td>0.1642</td>\n",
              "      <td>11</td>\n",
              "      <td>108</td>\n",
              "      <td>119</td>\n",
              "    </tr>\n",
              "    <tr>\n",
              "      <th>17375</th>\n",
              "      <td>17376</td>\n",
              "      <td>2012-12-31</td>\n",
              "      <td>1</td>\n",
              "      <td>1</td>\n",
              "      <td>12</td>\n",
              "      <td>20</td>\n",
              "      <td>0</td>\n",
              "      <td>1</td>\n",
              "      <td>1</td>\n",
              "      <td>2</td>\n",
              "      <td>0.26</td>\n",
              "      <td>0.2576</td>\n",
              "      <td>0.60</td>\n",
              "      <td>0.1642</td>\n",
              "      <td>8</td>\n",
              "      <td>81</td>\n",
              "      <td>89</td>\n",
              "    </tr>\n",
              "    <tr>\n",
              "      <th>17376</th>\n",
              "      <td>17377</td>\n",
              "      <td>2012-12-31</td>\n",
              "      <td>1</td>\n",
              "      <td>1</td>\n",
              "      <td>12</td>\n",
              "      <td>21</td>\n",
              "      <td>0</td>\n",
              "      <td>1</td>\n",
              "      <td>1</td>\n",
              "      <td>1</td>\n",
              "      <td>0.26</td>\n",
              "      <td>0.2576</td>\n",
              "      <td>0.60</td>\n",
              "      <td>0.1642</td>\n",
              "      <td>7</td>\n",
              "      <td>83</td>\n",
              "      <td>90</td>\n",
              "    </tr>\n",
              "    <tr>\n",
              "      <th>17377</th>\n",
              "      <td>17378</td>\n",
              "      <td>2012-12-31</td>\n",
              "      <td>1</td>\n",
              "      <td>1</td>\n",
              "      <td>12</td>\n",
              "      <td>22</td>\n",
              "      <td>0</td>\n",
              "      <td>1</td>\n",
              "      <td>1</td>\n",
              "      <td>1</td>\n",
              "      <td>0.26</td>\n",
              "      <td>0.2727</td>\n",
              "      <td>0.56</td>\n",
              "      <td>0.1343</td>\n",
              "      <td>13</td>\n",
              "      <td>48</td>\n",
              "      <td>61</td>\n",
              "    </tr>\n",
              "    <tr>\n",
              "      <th>17378</th>\n",
              "      <td>17379</td>\n",
              "      <td>2012-12-31</td>\n",
              "      <td>1</td>\n",
              "      <td>1</td>\n",
              "      <td>12</td>\n",
              "      <td>23</td>\n",
              "      <td>0</td>\n",
              "      <td>1</td>\n",
              "      <td>1</td>\n",
              "      <td>1</td>\n",
              "      <td>0.26</td>\n",
              "      <td>0.2727</td>\n",
              "      <td>0.65</td>\n",
              "      <td>0.1343</td>\n",
              "      <td>12</td>\n",
              "      <td>37</td>\n",
              "      <td>49</td>\n",
              "    </tr>\n",
              "  </tbody>\n",
              "</table>\n",
              "<p>17379 rows × 17 columns</p>\n",
              "</div>"
            ],
            "text/plain": [
              "       instant      dteday  season  yr  mnth  hr  holiday  weekday  \\\n",
              "0            1  2011-01-01       1   0     1   0        0        6   \n",
              "1            2  2011-01-01       1   0     1   1        0        6   \n",
              "2            3  2011-01-01       1   0     1   2        0        6   \n",
              "3            4  2011-01-01       1   0     1   3        0        6   \n",
              "4            5  2011-01-01       1   0     1   4        0        6   \n",
              "...        ...         ...     ...  ..   ...  ..      ...      ...   \n",
              "17374    17375  2012-12-31       1   1    12  19        0        1   \n",
              "17375    17376  2012-12-31       1   1    12  20        0        1   \n",
              "17376    17377  2012-12-31       1   1    12  21        0        1   \n",
              "17377    17378  2012-12-31       1   1    12  22        0        1   \n",
              "17378    17379  2012-12-31       1   1    12  23        0        1   \n",
              "\n",
              "       workingday  weathersit  temp   atemp   hum  windspeed  casual  \\\n",
              "0               0           1  0.24  0.2879  0.81     0.0000       3   \n",
              "1               0           1  0.22  0.2727  0.80     0.0000       8   \n",
              "2               0           1  0.22  0.2727  0.80     0.0000       5   \n",
              "3               0           1  0.24  0.2879  0.75     0.0000       3   \n",
              "4               0           1  0.24  0.2879  0.75     0.0000       0   \n",
              "...           ...         ...   ...     ...   ...        ...     ...   \n",
              "17374           1           2  0.26  0.2576  0.60     0.1642      11   \n",
              "17375           1           2  0.26  0.2576  0.60     0.1642       8   \n",
              "17376           1           1  0.26  0.2576  0.60     0.1642       7   \n",
              "17377           1           1  0.26  0.2727  0.56     0.1343      13   \n",
              "17378           1           1  0.26  0.2727  0.65     0.1343      12   \n",
              "\n",
              "       registered  cnt  \n",
              "0              13   16  \n",
              "1              32   40  \n",
              "2              27   32  \n",
              "3              10   13  \n",
              "4               1    1  \n",
              "...           ...  ...  \n",
              "17374         108  119  \n",
              "17375          81   89  \n",
              "17376          83   90  \n",
              "17377          48   61  \n",
              "17378          37   49  \n",
              "\n",
              "[17379 rows x 17 columns]"
            ]
          },
          "execution_count": 3,
          "metadata": {},
          "output_type": "execute_result"
        }
      ],
      "source": [
        "df = pd.read_csv(\"hour.csv\", delimiter=\",\")\n",
        "df"
      ]
    },
    {
      "cell_type": "markdown",
      "metadata": {
        "id": "FHSiqaZp8DC1"
      },
      "source": [
        "### Assessing Data"
      ]
    },
    {
      "cell_type": "markdown",
      "metadata": {
        "id": "IXUmNkQjtRkv"
      },
      "source": [
        "- Penjelasan kolom dari data di atas\n",
        "- instant: No urut dari setiap rekaman\n",
        "- dtadey : tanggal\n",
        "- season : musim (terdapat 4 musim yaitu semi,panas,gugur, dan musim dingin)\n",
        "- yr : tahun (mulai dari tahun 2011-2012)\n",
        "- mnth : bulan ( dari bukan 1-12 yaitu dari januari sampai dengan desember)\n",
        "- hr : jam (0 - 23)\n",
        "- holiday : apakah hari tersebut libur atau tidak\n",
        "- keekday : hari dalam seminggu\n",
        "- workingday : jika hari libur maka bernilai 1, jika tidak maka bernilai 0\n",
        "- weathersit : siatuasi cuaca\n",
        "- temp : suhu\n",
        "- atemp : adalah kolom yang memberikan nilai suhu perasaan yang dinormalisasi dalam derajat Celsius.\n",
        "- hum : kelembaban yang di normalisasi\n",
        "- windspeed : kecepatan angin\n",
        "- casual : jumlah pengguna tidak resmi\n",
        "- registered : jumlah pengguna terdaftar\n",
        "- cnt : jumlah pengguna total termasuk pengguna resmi ataupun tidak"
      ]
    },
    {
      "cell_type": "markdown",
      "metadata": {
        "id": "L9oW54LltvZS"
      },
      "source": [
        "- cek Missing Values"
      ]
    },
    {
      "cell_type": "code",
      "execution_count": 4,
      "metadata": {
        "colab": {
          "base_uri": "https://localhost:8080/"
        },
        "id": "ax-3tEjc9Cj1",
        "outputId": "da33479a-3b12-4fe2-d7a4-82dfdf25b74f"
      },
      "outputs": [
        {
          "name": "stdout",
          "output_type": "stream",
          "text": [
            "Missing Value:\n"
          ]
        },
        {
          "data": {
            "text/plain": [
              "instant       0\n",
              "dteday        0\n",
              "season        0\n",
              "yr            0\n",
              "mnth          0\n",
              "hr            0\n",
              "holiday       0\n",
              "weekday       0\n",
              "workingday    0\n",
              "weathersit    0\n",
              "temp          0\n",
              "atemp         0\n",
              "hum           0\n",
              "windspeed     0\n",
              "casual        0\n",
              "registered    0\n",
              "cnt           0\n",
              "dtype: int64"
            ]
          },
          "execution_count": 4,
          "metadata": {},
          "output_type": "execute_result"
        }
      ],
      "source": [
        "print(\"Missing Value:\")\n",
        "df.isna().sum()"
      ]
    },
    {
      "cell_type": "markdown",
      "metadata": {
        "id": "0jTDp-3WuJB6"
      },
      "source": [
        "- Cek apakah ada data yang duplicate"
      ]
    },
    {
      "cell_type": "code",
      "execution_count": 5,
      "metadata": {
        "colab": {
          "base_uri": "https://localhost:8080/"
        },
        "id": "SLZqgOvVckMC",
        "outputId": "9e57d20f-3432-4175-c930-2c1a503483db"
      },
      "outputs": [
        {
          "name": "stdout",
          "output_type": "stream",
          "text": [
            "Total Duplicate :  0\n"
          ]
        }
      ],
      "source": [
        "print(\"Total Duplicate : \", df.duplicated().sum())"
      ]
    },
    {
      "cell_type": "markdown",
      "metadata": {
        "id": "61meTLMYuNzo"
      },
      "source": [
        "- Cek informasi dari dataframe"
      ]
    },
    {
      "cell_type": "code",
      "execution_count": 6,
      "metadata": {
        "colab": {
          "base_uri": "https://localhost:8080/"
        },
        "id": "50ZNVYLWcqdR",
        "outputId": "b06bc3ca-8edc-4afa-9a37-f46baa87b3bf"
      },
      "outputs": [
        {
          "name": "stdout",
          "output_type": "stream",
          "text": [
            "<class 'pandas.core.frame.DataFrame'>\n",
            "RangeIndex: 17379 entries, 0 to 17378\n",
            "Data columns (total 17 columns):\n",
            " #   Column      Non-Null Count  Dtype  \n",
            "---  ------      --------------  -----  \n",
            " 0   instant     17379 non-null  int64  \n",
            " 1   dteday      17379 non-null  object \n",
            " 2   season      17379 non-null  int64  \n",
            " 3   yr          17379 non-null  int64  \n",
            " 4   mnth        17379 non-null  int64  \n",
            " 5   hr          17379 non-null  int64  \n",
            " 6   holiday     17379 non-null  int64  \n",
            " 7   weekday     17379 non-null  int64  \n",
            " 8   workingday  17379 non-null  int64  \n",
            " 9   weathersit  17379 non-null  int64  \n",
            " 10  temp        17379 non-null  float64\n",
            " 11  atemp       17379 non-null  float64\n",
            " 12  hum         17379 non-null  float64\n",
            " 13  windspeed   17379 non-null  float64\n",
            " 14  casual      17379 non-null  int64  \n",
            " 15  registered  17379 non-null  int64  \n",
            " 16  cnt         17379 non-null  int64  \n",
            "dtypes: float64(4), int64(12), object(1)\n",
            "memory usage: 2.3+ MB\n"
          ]
        }
      ],
      "source": [
        "df.info()"
      ]
    },
    {
      "cell_type": "markdown",
      "metadata": {
        "id": "Ts4y-O5xuw_n"
      },
      "source": [
        "- Memeriksa nilai unik dari dari dataframe"
      ]
    },
    {
      "cell_type": "code",
      "execution_count": 7,
      "metadata": {
        "colab": {
          "base_uri": "https://localhost:8080/"
        },
        "id": "LVS0jumicu1V",
        "outputId": "53a56786-d3a7-4247-e2e3-9186a0fbb406"
      },
      "outputs": [
        {
          "name": "stdout",
          "output_type": "stream",
          "text": [
            "Unique values yr:\n",
            "[0 1]\n",
            "\n",
            "Unique values mnth:\n",
            "[ 1  2  3  4  5  6  7  8  9 10 11 12]\n",
            "\n",
            "Unique values holiday:\n",
            "[0 1]\n",
            "\n",
            "Unique values weekday:\n",
            "[6 0 1 2 3 4 5]\n",
            "\n",
            "Unique values workingday:\n",
            "[0 1]\n",
            "\n",
            "Unique values season:\n",
            "[1 2 3 4]\n",
            "\n",
            "Unique values weathersit:\n",
            "[1 2 3 4]\n",
            "\n"
          ]
        }
      ],
      "source": [
        "check = [ 'yr', 'mnth', 'holiday', 'weekday','workingday','season', 'weathersit'] #Feature yang ingin di periksa\n",
        "for col in check: #loop untuk seluruh feature pada check\n",
        "    unique_val = df[col].unique()\n",
        "    print(f'Unique values {col}:') # Menampilkan semua nilai unik untuk feature yang telah ditentukan\n",
        "    print(unique_val)\n",
        "    print()"
      ]
    },
    {
      "cell_type": "markdown",
      "metadata": {
        "id": "cZlkrdEyvHLm"
      },
      "source": [
        "- Pengecekan outlier menggunakan bol plot"
      ]
    },
    {
      "cell_type": "code",
      "execution_count": 8,
      "metadata": {
        "colab": {
          "base_uri": "https://localhost:8080/",
          "height": 613
        },
        "id": "ywGQ6Gnsc9_9",
        "outputId": "96093161-774c-4654-9530-edabfaa58202"
      },
      "outputs": [
        {
          "data": {
            "image/png": "[encoded data removed]",
            "text/plain": [
              "<Figure size 1000x600 with 1 Axes>"
            ]
          },
          "metadata": {},
          "output_type": "display_data"
        }
      ],
      "source": [
        "plt.figure(figsize=(10, 6))\n",
        "df.boxplot(column=['temp', 'atemp', 'hum','windspeed'])\n",
        "plt.title('Pengecekan Outlier')\n",
        "plt.ylabel('Nilai')\n",
        "plt.xlabel('Features')\n",
        "plt.xticks(rotation=45)\n",
        "plt.grid(False)\n",
        "plt.show()"
      ]
    },
    {
      "cell_type": "markdown",
      "metadata": {
        "id": "zS4F7DfPvNli"
      },
      "source": [
        "- mengecek outlier box plot dalam column \" count\""
      ]
    },
    {
      "cell_type": "code",
      "execution_count": 9,
      "metadata": {
        "colab": {
          "base_uri": "https://localhost:8080/",
          "height": 610
        },
        "id": "Z7OZHPQMc95q",
        "outputId": "2653e10d-bcf4-479e-92a0-41d0fa3f4f91"
      },
      "outputs": [
        {
          "data": {
            "image/png": "[encoded data removed]",
            "text/plain": [
              "<Figure size 1000x600 with 1 Axes>"
            ]
          },
          "metadata": {},
          "output_type": "display_data"
        }
      ],
      "source": [
        "plt.figure(figsize=(10, 6))\n",
        "df.boxplot(column=[ 'casual', 'registered', 'cnt'])\n",
        "plt.title('Pengecekan Outlier')\n",
        "plt.ylabel('Nilai')\n",
        "plt.xlabel('Features')\n",
        "plt.xticks(rotation=45)\n",
        "plt.grid(False)\n",
        "plt.show()"
      ]
    },
    {
      "cell_type": "markdown",
      "metadata": {
        "id": "EhN5R4hr8DC1"
      },
      "source": [
        "### Cleaning Data"
      ]
    },
    {
      "cell_type": "markdown",
      "metadata": {
        "id": "pS63zN23y-jV"
      },
      "source": [
        "-  menghapus baris-baris dari DataFrame df yang memiliki nilai windspeed yang di luar batas bawah dan atas yang ditentukan oleh metode IQR (Interquartile Range)"
      ]
    },
    {
      "cell_type": "code",
      "execution_count": 10,
      "metadata": {
        "id": "jVnYpprE9Evz"
      },
      "outputs": [],
      "source": [
        "Q1 = (df['windspeed']).quantile(0.25)\n",
        "Q3 = (df['windspeed']).quantile(0.75)\n",
        "IQR = Q3 - Q1\n",
        "\n",
        "max = Q3 + (1.5*IQR)\n",
        "min = Q1 - (1.5*IQR)\n",
        "\n",
        "con_low = df['windspeed'] < min\n",
        "con_mor = df['windspeed'] > max\n",
        "\n",
        "df.drop(df[con_low].index, inplace=True)"
      ]
    },
    {
      "cell_type": "markdown",
      "metadata": {
        "id": "WM8ygfdmzM28"
      },
      "source": [
        "- penghapusan outlier pada kolom 'casual' dari DataFrame"
      ]
    },
    {
      "cell_type": "code",
      "execution_count": 11,
      "metadata": {
        "id": "2S43QWLDdK7X"
      },
      "outputs": [],
      "source": [
        "Q1 = (df['casual']).quantile(0.25)\n",
        "Q3 = (df['casual']).quantile(0.75)\n",
        "IQR = Q3 - Q1\n",
        "\n",
        "max = Q3 + (1.5*IQR)\n",
        "min = Q1 - (1.5*IQR)\n",
        "\n",
        "con_low = df['casual'] < min\n",
        "con_mor = df['casual'] > max\n",
        "\n",
        "df.drop(df[con_low].index, inplace=True)"
      ]
    },
    {
      "cell_type": "markdown",
      "metadata": {
        "id": "v_T0tUTKzh7_"
      },
      "source": [
        "- melakukan pemrosesan outlier pada kolom 'hum'"
      ]
    },
    {
      "cell_type": "code",
      "execution_count": 12,
      "metadata": {
        "id": "BB8pVywVdQ_X"
      },
      "outputs": [],
      "source": [
        "Q1 = (df['hum']).quantile(0.25)\n",
        "Q3 = (df['hum']).quantile(0.75)\n",
        "IQR = Q3 - Q1\n",
        "\n",
        "max = Q3 + (1.5*IQR)\n",
        "min = Q1 - (1.5*IQR)\n",
        "\n",
        "con_low = df['hum'] < min\n",
        "con_mor = df['hum'] > max\n",
        "\n",
        "df.drop(df[con_low].index, inplace=True)"
      ]
    },
    {
      "cell_type": "markdown",
      "metadata": {
        "id": "6N6Dpad7ztt7"
      },
      "source": [
        "- melakukan pemrosesan outlier pada kolom 'registered' dari DataFrame"
      ]
    },
    {
      "cell_type": "code",
      "execution_count": 13,
      "metadata": {
        "id": "RmEAQ3LCdUVW"
      },
      "outputs": [],
      "source": [
        "Q1 = (df['registered']).quantile(0.25)\n",
        "Q3 = (df['registered']).quantile(0.75)\n",
        "IQR = Q3 - Q1\n",
        "\n",
        "max = Q3 + (1.5*IQR)\n",
        "min = Q1 - (1.5*IQR)\n",
        "\n",
        "con_low = df['registered'] < min\n",
        "con_mor = df['registered'] > max\n",
        "\n",
        "df.drop(df[con_low].index, inplace=True)"
      ]
    },
    {
      "cell_type": "markdown",
      "metadata": {
        "id": "0TzXSTrFz71H"
      },
      "source": [
        "- melakukan pemrosesan outlier pada kolom 'cnt' (jumlah total pengguna sepeda) dari DataFrame"
      ]
    },
    {
      "cell_type": "code",
      "execution_count": 14,
      "metadata": {
        "id": "XnWXnEmUdXnc"
      },
      "outputs": [],
      "source": [
        "Q1 = (df['cnt']).quantile(0.25)\n",
        "Q3 = (df['cnt']).quantile(0.75)\n",
        "IQR = Q3 - Q1\n",
        "\n",
        "max = Q3 + (1.5*IQR)\n",
        "min = Q1 - (1.5*IQR)\n",
        "\n",
        "con_low = df['cnt'] < min\n",
        "con_mor = df['cnt'] > max\n",
        "\n",
        "df.drop(df[con_low].index, inplace=True)"
      ]
    },
    {
      "cell_type": "markdown",
      "metadata": {
        "id": "AL4F32m6vdvM"
      },
      "source": [
        "- informasi dari data"
      ]
    },
    {
      "cell_type": "code",
      "execution_count": 15,
      "metadata": {
        "colab": {
          "base_uri": "https://localhost:8080/"
        },
        "id": "bEUMQsntda4M",
        "outputId": "cbf73a07-316f-4657-d730-ca87203cca1e"
      },
      "outputs": [
        {
          "name": "stdout",
          "output_type": "stream",
          "text": [
            "<class 'pandas.core.frame.DataFrame'>\n",
            "Index: 17357 entries, 0 to 17378\n",
            "Data columns (total 17 columns):\n",
            " #   Column      Non-Null Count  Dtype  \n",
            "---  ------      --------------  -----  \n",
            " 0   instant     17357 non-null  int64  \n",
            " 1   dteday      17357 non-null  object \n",
            " 2   season      17357 non-null  int64  \n",
            " 3   yr          17357 non-null  int64  \n",
            " 4   mnth        17357 non-null  int64  \n",
            " 5   hr          17357 non-null  int64  \n",
            " 6   holiday     17357 non-null  int64  \n",
            " 7   weekday     17357 non-null  int64  \n",
            " 8   workingday  17357 non-null  int64  \n",
            " 9   weathersit  17357 non-null  int64  \n",
            " 10  temp        17357 non-null  float64\n",
            " 11  atemp       17357 non-null  float64\n",
            " 12  hum         17357 non-null  float64\n",
            " 13  windspeed   17357 non-null  float64\n",
            " 14  casual      17357 non-null  int64  \n",
            " 15  registered  17357 non-null  int64  \n",
            " 16  cnt         17357 non-null  int64  \n",
            "dtypes: float64(4), int64(12), object(1)\n",
            "memory usage: 2.4+ MB\n"
          ]
        }
      ],
      "source": [
        "df.info()"
      ]
    },
    {
      "cell_type": "markdown",
      "metadata": {
        "id": "W8gLClfvv0tA"
      },
      "source": [
        "- Mengganti nilai tertentu dari kolom \"yr\""
      ]
    },
    {
      "cell_type": "code",
      "execution_count": 16,
      "metadata": {
        "colab": {
          "base_uri": "https://localhost:8080/"
        },
        "id": "NliVPqsQdlDc",
        "outputId": "a31b582f-de7d-40f7-c13f-97e2650c6a04"
      },
      "outputs": [
        {
          "name": "stdout",
          "output_type": "stream",
          "text": [
            "Recent unique value:\n",
            "[2011 2012]\n"
          ]
        }
      ],
      "source": [
        "change_val = {0 : 2011, 1 : 2012}\n",
        "df['yr'].replace(change_val, inplace=True)\n",
        "print('Recent unique value:')\n",
        "print(df['yr'].unique())"
      ]
    },
    {
      "cell_type": "markdown",
      "metadata": {
        "id": "npLHE82Ov699"
      },
      "source": [
        "- Mengganti nilai tertentu dari kolom \"mnth\"  pada dataframe"
      ]
    },
    {
      "cell_type": "code",
      "execution_count": 17,
      "metadata": {
        "colab": {
          "base_uri": "https://localhost:8080/"
        },
        "id": "5ZDbOH9gdwSB",
        "outputId": "f544a896-a8f9-4c94-cd8c-fef7e4cdf49a"
      },
      "outputs": [
        {
          "name": "stdout",
          "output_type": "stream",
          "text": [
            "Recent unique value:\n",
            "['Jan' 'Feb' 'Mar' 'Apr' 'May' 'Jun' 'Jul' 'Aug' 'Sep' 'Oct' 'Nov' 'Dec']\n"
          ]
        }
      ],
      "source": [
        "change_val = { 1 : 'Jan' , 2 : 'Feb' , 3 : 'Mar' , 4 : 'Apr' , 5 : 'May' , 6 : 'Jun' , 7 : 'Jul' , 8 : 'Aug', 9 : 'Sep' , 10 : 'Oct' , 11 : 'Nov' , 12 : 'Dec' }\n",
        "df['mnth'].replace(change_val, inplace=True)\n",
        "print('Recent unique value:')\n",
        "print(df['mnth'].unique())"
      ]
    },
    {
      "cell_type": "markdown",
      "metadata": {
        "id": "_HB0xKFYwQgV"
      },
      "source": [
        "- mengganti nilai pada hari libur atau bukan hari libur"
      ]
    },
    {
      "cell_type": "code",
      "execution_count": 18,
      "metadata": {
        "colab": {
          "base_uri": "https://localhost:8080/"
        },
        "id": "twVhyxNNd9Iv",
        "outputId": "cf8dbb9b-fb39-4224-e4c4-94fdeb81cd0a"
      },
      "outputs": [
        {
          "name": "stdout",
          "output_type": "stream",
          "text": [
            "Recent unique value :\n",
            "['Not holiday' 'Holiday']\n"
          ]
        }
      ],
      "source": [
        "change_val = {0 : \"Not holiday\", 1 : \"Holiday\"}\n",
        "df['holiday'].replace(change_val, inplace=True)\n",
        "print('Recent unique value :')\n",
        "print(df['holiday'].unique())"
      ]
    },
    {
      "cell_type": "markdown",
      "metadata": {
        "id": "Kp1_5h-TwdiK"
      },
      "source": [
        "- Mengganti nilai tertentu pada hari"
      ]
    },
    {
      "cell_type": "code",
      "execution_count": 19,
      "metadata": {
        "colab": {
          "base_uri": "https://localhost:8080/"
        },
        "id": "1p8p7P0DeO_Z",
        "outputId": "fdf855ce-06b7-4d43-cd0b-a91696da58c1"
      },
      "outputs": [
        {
          "name": "stdout",
          "output_type": "stream",
          "text": [
            "unique value sekarang :\n",
            "['Sa' 'Su' 'Mo' 'Tu' 'We' 'Th' 'Fr']\n"
          ]
        }
      ],
      "source": [
        "change_val = {0 : 'Su', 1 : 'Mo',  2 : 'Tu',  3 : 'We',  4 : 'Th', 5 : 'Fr', 6 : 'Sa', }\n",
        "df['weekday'].replace(change_val, inplace=True)\n",
        "print('unique value sekarang :')\n",
        "print(df['weekday'].unique())"
      ]
    },
    {
      "cell_type": "markdown",
      "metadata": {
        "id": "Red8o3iXwlYr"
      },
      "source": [
        "- Mengganti nilai tertentu pada hari libur atau bukan hari libur"
      ]
    },
    {
      "cell_type": "code",
      "execution_count": 20,
      "metadata": {
        "colab": {
          "base_uri": "https://localhost:8080/"
        },
        "id": "8HP-0QXkeZaV",
        "outputId": "82fd35b7-5610-43c8-b6b3-47c7116c2aec"
      },
      "outputs": [
        {
          "name": "stdout",
          "output_type": "stream",
          "text": [
            "unique value sekarang :\n",
            "['Not Workday' 'Workingday']\n"
          ]
        }
      ],
      "source": [
        "change_val = {0 : \"Not Workday\", 1 : \"Workingday\"}\n",
        "df['workingday'].replace(change_val, inplace=True)\n",
        "print('unique value sekarang :')\n",
        "print(df['workingday'].unique())"
      ]
    },
    {
      "cell_type": "markdown",
      "metadata": {
        "id": "5XK_BRgfwuyu"
      },
      "source": [
        "- Mengganti nilai tertentu pada kolom cuaca"
      ]
    },
    {
      "cell_type": "code",
      "execution_count": 21,
      "metadata": {
        "colab": {
          "base_uri": "https://localhost:8080/"
        },
        "id": "Ieo2wjk7ei7y",
        "outputId": "bdb5860e-142e-4c1a-fbb9-b949ae3e235f"
      },
      "outputs": [
        {
          "name": "stdout",
          "output_type": "stream",
          "text": [
            "unique value sekarang :\n",
            "['Spring' 'Summer' 'Fall' 'Winter']\n"
          ]
        }
      ],
      "source": [
        "change_val = { 1 : 'Spring' , 2 : 'Summer' , 3 : 'Fall' , 4 : 'Winter' }\n",
        "df['season'].replace(change_val, inplace=True)\n",
        "print('unique value sekarang :')\n",
        "print(df['season'].unique())"
      ]
    },
    {
      "cell_type": "markdown",
      "metadata": {
        "id": "HJC7epgMw-Cm"
      },
      "source": [
        "- Mengganti nilai tertentu pada kolom suhu"
      ]
    },
    {
      "cell_type": "code",
      "execution_count": 22,
      "metadata": {
        "colab": {
          "base_uri": "https://localhost:8080/"
        },
        "id": "c7UdUE-zevOG",
        "outputId": "dd7a3042-8d89-41f5-f177-d856f1e82897"
      },
      "outputs": [
        {
          "name": "stdout",
          "output_type": "stream",
          "text": [
            "Recent unique value  :\n",
            "['Clear' 'Cloudy' 'Light Rain/Snow' 'Heavy Rain/Snow']\n"
          ]
        }
      ],
      "source": [
        "change_val = { 1 : 'Clear' , 2 : 'Cloudy' , 3 : 'Light Rain/Snow' , 4 : 'Heavy Rain/Snow' }\n",
        "df['weathersit'].replace(change_val, inplace=True)\n",
        "print('Recent unique value  :')\n",
        "print(df['weathersit'].unique())"
      ]
    },
    {
      "cell_type": "markdown",
      "metadata": {
        "id": "ZbMLOPk6xF3Y"
      },
      "source": [
        "- informasi data pada dataframe"
      ]
    },
    {
      "cell_type": "code",
      "execution_count": 23,
      "metadata": {
        "colab": {
          "base_uri": "https://localhost:8080/"
        },
        "id": "p9MS69y4e5dD",
        "outputId": "8efe13ef-6139-41d0-ccb6-ab30719dedad"
      },
      "outputs": [
        {
          "name": "stdout",
          "output_type": "stream",
          "text": [
            "<class 'pandas.core.frame.DataFrame'>\n",
            "Index: 17357 entries, 0 to 17378\n",
            "Data columns (total 17 columns):\n",
            " #   Column      Non-Null Count  Dtype  \n",
            "---  ------      --------------  -----  \n",
            " 0   instant     17357 non-null  int64  \n",
            " 1   dteday      17357 non-null  object \n",
            " 2   season      17357 non-null  object \n",
            " 3   yr          17357 non-null  int64  \n",
            " 4   mnth        17357 non-null  object \n",
            " 5   hr          17357 non-null  int64  \n",
            " 6   holiday     17357 non-null  object \n",
            " 7   weekday     17357 non-null  object \n",
            " 8   workingday  17357 non-null  object \n",
            " 9   weathersit  17357 non-null  object \n",
            " 10  temp        17357 non-null  float64\n",
            " 11  atemp       17357 non-null  float64\n",
            " 12  hum         17357 non-null  float64\n",
            " 13  windspeed   17357 non-null  float64\n",
            " 14  casual      17357 non-null  int64  \n",
            " 15  registered  17357 non-null  int64  \n",
            " 16  cnt         17357 non-null  int64  \n",
            "dtypes: float64(4), int64(6), object(7)\n",
            "memory usage: 2.4+ MB\n"
          ]
        }
      ],
      "source": [
        "df.info()"
      ]
    },
    {
      "cell_type": "markdown",
      "metadata": {
        "id": "BUDKZw53xOJX"
      },
      "source": [
        "- Mengganti nama dari dataframe supayamudah di baca"
      ]
    },
    {
      "cell_type": "code",
      "execution_count": 24,
      "metadata": {
        "id": "PiPW2gErfA_l"
      },
      "outputs": [],
      "source": [
        "df.rename(columns={\n",
        "    'dteday' : 'Date',\n",
        "    'instant' : 'Instant',\n",
        "    'season' : 'Season',\n",
        "    'yr' : 'Year',\n",
        "    'mnth' : 'Month',\n",
        "    'hr' : 'Hour',\n",
        "    'holiday' : 'Holiday',\n",
        "    'weekday' : 'Weekday',\n",
        "    'workingday' : 'Workingday',\n",
        "    'weathersit' : 'Weather',\n",
        "    'temp' : 'Temperature',\n",
        "    'hum' : 'Humidity',\n",
        "    'windspeed' : 'Windspeed',\n",
        "    'registered' : 'Registered_user',\n",
        "    'casual' : 'Casual_user',\n",
        "    'cnt' : 'Total_rental'\n",
        "}, inplace=True\n",
        ")"
      ]
    },
    {
      "cell_type": "markdown",
      "metadata": {
        "id": "6Uk0fiWnxdxV"
      },
      "source": [
        "- Konversi data dari kolom \"date\""
      ]
    },
    {
      "cell_type": "code",
      "execution_count": 25,
      "metadata": {
        "colab": {
          "base_uri": "https://localhost:8080/"
        },
        "id": "JWU8viH9fQxN",
        "outputId": "89f8e2b5-0729-4be9-b90c-9a66f4915d3f"
      },
      "outputs": [
        {
          "name": "stdout",
          "output_type": "stream",
          "text": [
            "<class 'pandas.core.frame.DataFrame'>\n",
            "Index: 17357 entries, 0 to 17378\n",
            "Data columns (total 17 columns):\n",
            " #   Column           Non-Null Count  Dtype         \n",
            "---  ------           --------------  -----         \n",
            " 0   Instant          17357 non-null  int64         \n",
            " 1   Date             17357 non-null  datetime64[ns]\n",
            " 2   Season           17357 non-null  object        \n",
            " 3   Year             17357 non-null  int64         \n",
            " 4   Month            17357 non-null  object        \n",
            " 5   Hour             17357 non-null  int64         \n",
            " 6   Holiday          17357 non-null  object        \n",
            " 7   Weekday          17357 non-null  object        \n",
            " 8   Workingday       17357 non-null  object        \n",
            " 9   Weather          17357 non-null  object        \n",
            " 10  Temperature      17357 non-null  float64       \n",
            " 11  atemp            17357 non-null  float64       \n",
            " 12  Humidity         17357 non-null  float64       \n",
            " 13  Windspeed        17357 non-null  float64       \n",
            " 14  Casual_user      17357 non-null  int64         \n",
            " 15  Registered_user  17357 non-null  int64         \n",
            " 16  Total_rental     17357 non-null  int64         \n",
            "dtypes: datetime64[ns](1), float64(4), int64(6), object(6)\n",
            "memory usage: 2.4+ MB\n"
          ]
        }
      ],
      "source": [
        "df['Date'] = pd.to_datetime(df['Date'])\n",
        "\n",
        "df.info()"
      ]
    },
    {
      "cell_type": "markdown",
      "metadata": {
        "id": "13f10UVexqjk"
      },
      "source": [
        "- Simpan dataframe dalam file.csv"
      ]
    },
    {
      "cell_type": "code",
      "execution_count": 26,
      "metadata": {
        "id": "u3hXhc_UfT2G"
      },
      "outputs": [],
      "source": [
        "df.to_csv('hour_cleaned.csv', index=False)"
      ]
    },
    {
      "cell_type": "markdown",
      "metadata": {
        "id": "gp-Y6wU38DC1"
      },
      "source": [
        "## Exploratory Data Analysis (EDA)"
      ]
    },
    {
      "cell_type": "markdown",
      "metadata": {
        "id": "MW7WF2kr8DC1"
      },
      "source": [
        "### Explore\n",
        "- Data Understanding\n",
        "- Handling Missing Values\n",
        "- Outlier Detection\n",
        "- Data Clustering"
      ]
    },
    {
      "cell_type": "markdown",
      "metadata": {
        "id": "ivUalXvNx1Ek"
      },
      "source": [
        "- Mencari beberapa hubungan /korelasi antar data"
      ]
    },
    {
      "cell_type": "code",
      "execution_count": 27,
      "metadata": {
        "colab": {
          "base_uri": "https://localhost:8080/",
          "height": 411
        },
        "id": "e9CQCZjk8DC2",
        "outputId": "a16cfef8-5fc8-4652-c5cd-6bee39806fe7"
      },
      "outputs": [
        {
          "data": {
            "image/png": "[encoded data removed]",
            "text/plain": [
              "<Figure size 1000x300 with 2 Axes>"
            ]
          },
          "metadata": {},
          "output_type": "display_data"
        }
      ],
      "source": [
        "import seaborn as sns\n",
        "import matplotlib.pyplot as plt\n",
        "import warnings\n",
        "\n",
        "warnings.filterwarnings(\"ignore\")\n",
        "plt.figure(figsize=(10, 3))\n",
        "\n",
        "numeric_df = df.select_dtypes(include='number')\n",
        "\n",
        "# Membuat heatmap hanya dengan kolom numerik\n",
        "sns.heatmap(numeric_df.corr(), annot=True, cmap='Blues', fmt=\".2f\")\n",
        "plt.title('Heatmap Korelasi antar Fitur')\n",
        "plt.show()"
      ]
    },
    {
      "cell_type": "markdown",
      "metadata": {
        "id": "Y2HP6KhZx7vw"
      },
      "source": [
        "- Mengelompokkan data dalam dataframe berdasarkan musim"
      ]
    },
    {
      "cell_type": "code",
      "execution_count": 28,
      "metadata": {
        "colab": {
          "base_uri": "https://localhost:8080/"
        },
        "id": "VQZWjfjXfeox",
        "outputId": "4fec87c9-cf0d-470c-bc9b-b3eb6807eb38"
      },
      "outputs": [
        {
          "name": "stdout",
          "output_type": "stream",
          "text": [
            "        Registered_user  Casual_user  Total_rental\n",
            "Season                                            \n",
            "Fall             835038       226091       1061129\n",
            "Summer           715067       203522        918589\n",
            "Winter           711831       129782        841613\n",
            "Spring           410149        60576        470725\n"
          ]
        }
      ],
      "source": [
        "result = df.groupby(by=\"Season\").agg({\n",
        "    \"Registered_user\": \"sum\",\n",
        "    \"Casual_user\": \"sum\",\n",
        "    \"Total_rental\":  \"sum\"\n",
        "})\n",
        "\n",
        "result_sorted = result.sort_values(by='Total_rental', ascending=False)\n",
        "\n",
        "print(result_sorted)"
      ]
    },
    {
      "cell_type": "markdown",
      "metadata": {
        "id": "b_6hMOXMyAiU"
      },
      "source": [
        "- Mengelompokkan data dalam dataframe berdasarkan kolom \"weather\""
      ]
    },
    {
      "cell_type": "code",
      "execution_count": 29,
      "metadata": {
        "colab": {
          "base_uri": "https://localhost:8080/",
          "height": 206
        },
        "id": "sqUkMP0VfhVj",
        "outputId": "de3261a9-5b6c-4871-8712-6454bde32934"
      },
      "outputs": [
        {
          "data": {
            "text/html": [
              "<div>\n",
              "<style scoped>\n",
              "    .dataframe tbody tr th:only-of-type {\n",
              "        vertical-align: middle;\n",
              "    }\n",
              "\n",
              "    .dataframe tbody tr th {\n",
              "        vertical-align: top;\n",
              "    }\n",
              "\n",
              "    .dataframe thead th {\n",
              "        text-align: right;\n",
              "    }\n",
              "</style>\n",
              "<table border=\"1\" class=\"dataframe\">\n",
              "  <thead>\n",
              "    <tr style=\"text-align: right;\">\n",
              "      <th></th>\n",
              "      <th>Registered_user</th>\n",
              "      <th>Casual_user</th>\n",
              "      <th>Total_rental</th>\n",
              "    </tr>\n",
              "    <tr>\n",
              "      <th>Weather</th>\n",
              "      <th></th>\n",
              "      <th></th>\n",
              "      <th></th>\n",
              "    </tr>\n",
              "  </thead>\n",
              "  <tbody>\n",
              "    <tr>\n",
              "      <th>Clear</th>\n",
              "      <td>1875428</td>\n",
              "      <td>462745</td>\n",
              "      <td>2338173</td>\n",
              "    </tr>\n",
              "    <tr>\n",
              "      <th>Cloudy</th>\n",
              "      <td>661332</td>\n",
              "      <td>134475</td>\n",
              "      <td>795807</td>\n",
              "    </tr>\n",
              "    <tr>\n",
              "      <th>Light Rain/Snow</th>\n",
              "      <td>135110</td>\n",
              "      <td>22743</td>\n",
              "      <td>157853</td>\n",
              "    </tr>\n",
              "    <tr>\n",
              "      <th>Heavy Rain/Snow</th>\n",
              "      <td>215</td>\n",
              "      <td>8</td>\n",
              "      <td>223</td>\n",
              "    </tr>\n",
              "  </tbody>\n",
              "</table>\n",
              "</div>"
            ],
            "text/plain": [
              "                 Registered_user  Casual_user  Total_rental\n",
              "Weather                                                    \n",
              "Clear                    1875428       462745       2338173\n",
              "Cloudy                    661332       134475        795807\n",
              "Light Rain/Snow           135110        22743        157853\n",
              "Heavy Rain/Snow              215            8           223"
            ]
          },
          "execution_count": 29,
          "metadata": {},
          "output_type": "execute_result"
        }
      ],
      "source": [
        "df.groupby(by=\"Weather\").agg({\n",
        "    \"Registered_user\": \"sum\",\n",
        "    \"Casual_user\": \"sum\",\n",
        "    \"Total_rental\":  \"sum\"\n",
        "}).sort_values(by=\"Total_rental\", ascending=False)"
      ]
    },
    {
      "cell_type": "markdown",
      "metadata": {
        "id": "R-c4-5gQyL4f"
      },
      "source": [
        "- Mengelompokkan data dalam dataframe berdasarkan kolom \"weather\" dan \"season\""
      ]
    },
    {
      "cell_type": "code",
      "execution_count": 30,
      "metadata": {
        "colab": {
          "base_uri": "https://localhost:8080/",
          "height": 488
        },
        "id": "jQqhFxCbftMd",
        "outputId": "d29c3135-bdbd-4dd0-c73f-6ee29e0ce152"
      },
      "outputs": [
        {
          "data": {
            "text/html": [
              "<div>\n",
              "<style scoped>\n",
              "    .dataframe tbody tr th:only-of-type {\n",
              "        vertical-align: middle;\n",
              "    }\n",
              "\n",
              "    .dataframe tbody tr th {\n",
              "        vertical-align: top;\n",
              "    }\n",
              "\n",
              "    .dataframe thead th {\n",
              "        text-align: right;\n",
              "    }\n",
              "</style>\n",
              "<table border=\"1\" class=\"dataframe\">\n",
              "  <thead>\n",
              "    <tr style=\"text-align: right;\">\n",
              "      <th></th>\n",
              "      <th></th>\n",
              "      <th>Total_rental</th>\n",
              "    </tr>\n",
              "    <tr>\n",
              "      <th>Weather</th>\n",
              "      <th>Season</th>\n",
              "      <th></th>\n",
              "    </tr>\n",
              "  </thead>\n",
              "  <tbody>\n",
              "    <tr>\n",
              "      <th rowspan=\"4\" valign=\"top\">Clear</th>\n",
              "      <th>Fall</th>\n",
              "      <td>801941</td>\n",
              "    </tr>\n",
              "    <tr>\n",
              "      <th>Summer</th>\n",
              "      <td>664463</td>\n",
              "    </tr>\n",
              "    <tr>\n",
              "      <th>Winter</th>\n",
              "      <td>546491</td>\n",
              "    </tr>\n",
              "    <tr>\n",
              "      <th>Spring</th>\n",
              "      <td>325278</td>\n",
              "    </tr>\n",
              "    <tr>\n",
              "      <th rowspan=\"4\" valign=\"top\">Cloudy</th>\n",
              "      <th>Winter</th>\n",
              "      <td>251452</td>\n",
              "    </tr>\n",
              "    <tr>\n",
              "      <th>Fall</th>\n",
              "      <td>212932</td>\n",
              "    </tr>\n",
              "    <tr>\n",
              "      <th>Summer</th>\n",
              "      <td>207363</td>\n",
              "    </tr>\n",
              "    <tr>\n",
              "      <th>Spring</th>\n",
              "      <td>124060</td>\n",
              "    </tr>\n",
              "    <tr>\n",
              "      <th rowspan=\"4\" valign=\"top\">Light Rain/Snow</th>\n",
              "      <th>Summer</th>\n",
              "      <td>46763</td>\n",
              "    </tr>\n",
              "    <tr>\n",
              "      <th>Fall</th>\n",
              "      <td>46256</td>\n",
              "    </tr>\n",
              "    <tr>\n",
              "      <th>Winter</th>\n",
              "      <td>43670</td>\n",
              "    </tr>\n",
              "    <tr>\n",
              "      <th>Spring</th>\n",
              "      <td>21164</td>\n",
              "    </tr>\n",
              "    <tr>\n",
              "      <th>Heavy Rain/Snow</th>\n",
              "      <th>Spring</th>\n",
              "      <td>223</td>\n",
              "    </tr>\n",
              "  </tbody>\n",
              "</table>\n",
              "</div>"
            ],
            "text/plain": [
              "                        Total_rental\n",
              "Weather         Season              \n",
              "Clear           Fall          801941\n",
              "                Summer        664463\n",
              "                Winter        546491\n",
              "                Spring        325278\n",
              "Cloudy          Winter        251452\n",
              "                Fall          212932\n",
              "                Summer        207363\n",
              "                Spring        124060\n",
              "Light Rain/Snow Summer         46763\n",
              "                Fall           46256\n",
              "                Winter         43670\n",
              "                Spring         21164\n",
              "Heavy Rain/Snow Spring           223"
            ]
          },
          "execution_count": 30,
          "metadata": {},
          "output_type": "execute_result"
        }
      ],
      "source": [
        "df.groupby(by=[\"Weather\", \"Season\"]).agg({\n",
        "    \"Total_rental\":  \"sum\"\n",
        "}).sort_values(by=\"Total_rental\", ascending=False)"
      ]
    },
    {
      "cell_type": "markdown",
      "metadata": {
        "id": "h3QcRg3XyRyU"
      },
      "source": [
        "Mengelompokkan data dalam dataframe berdasarkan kolom \"keekday\""
      ]
    },
    {
      "cell_type": "code",
      "execution_count": 31,
      "metadata": {
        "colab": {
          "base_uri": "https://localhost:8080/",
          "height": 331
        },
        "id": "BVP1iFNVfxbt",
        "outputId": "1c2416e8-738b-41dd-9e69-3999aefeb7a8"
      },
      "outputs": [
        {
          "data": {
            "text/html": [
              "<div>\n",
              "<style scoped>\n",
              "    .dataframe tbody tr th:only-of-type {\n",
              "        vertical-align: middle;\n",
              "    }\n",
              "\n",
              "    .dataframe tbody tr th {\n",
              "        vertical-align: top;\n",
              "    }\n",
              "\n",
              "    .dataframe thead tr th {\n",
              "        text-align: left;\n",
              "    }\n",
              "\n",
              "    .dataframe thead tr:last-of-type th {\n",
              "        text-align: right;\n",
              "    }\n",
              "</style>\n",
              "<table border=\"1\" class=\"dataframe\">\n",
              "  <thead>\n",
              "    <tr>\n",
              "      <th></th>\n",
              "      <th colspan=\"4\" halign=\"left\">Total_rental</th>\n",
              "    </tr>\n",
              "    <tr>\n",
              "      <th></th>\n",
              "      <th>max</th>\n",
              "      <th>min</th>\n",
              "      <th>mean</th>\n",
              "      <th>sum</th>\n",
              "    </tr>\n",
              "    <tr>\n",
              "      <th>Weekday</th>\n",
              "      <th></th>\n",
              "      <th></th>\n",
              "      <th></th>\n",
              "      <th></th>\n",
              "    </tr>\n",
              "  </thead>\n",
              "  <tbody>\n",
              "    <tr>\n",
              "      <th>Fr</th>\n",
              "      <td>957</td>\n",
              "      <td>1</td>\n",
              "      <td>196.135907</td>\n",
              "      <td>487790</td>\n",
              "    </tr>\n",
              "    <tr>\n",
              "      <th>Mo</th>\n",
              "      <td>968</td>\n",
              "      <td>1</td>\n",
              "      <td>183.744655</td>\n",
              "      <td>455503</td>\n",
              "    </tr>\n",
              "    <tr>\n",
              "      <th>Sa</th>\n",
              "      <td>783</td>\n",
              "      <td>1</td>\n",
              "      <td>190.209793</td>\n",
              "      <td>477807</td>\n",
              "    </tr>\n",
              "    <tr>\n",
              "      <th>Su</th>\n",
              "      <td>776</td>\n",
              "      <td>1</td>\n",
              "      <td>177.468825</td>\n",
              "      <td>444027</td>\n",
              "    </tr>\n",
              "    <tr>\n",
              "      <th>Th</th>\n",
              "      <td>976</td>\n",
              "      <td>1</td>\n",
              "      <td>197.946917</td>\n",
              "      <td>484772</td>\n",
              "    </tr>\n",
              "    <tr>\n",
              "      <th>Tu</th>\n",
              "      <td>970</td>\n",
              "      <td>1</td>\n",
              "      <td>191.238891</td>\n",
              "      <td>469109</td>\n",
              "    </tr>\n",
              "    <tr>\n",
              "      <th>We</th>\n",
              "      <td>977</td>\n",
              "      <td>1</td>\n",
              "      <td>191.130505</td>\n",
              "      <td>473048</td>\n",
              "    </tr>\n",
              "  </tbody>\n",
              "</table>\n",
              "</div>"
            ],
            "text/plain": [
              "        Total_rental                        \n",
              "                 max min        mean     sum\n",
              "Weekday                                     \n",
              "Fr               957   1  196.135907  487790\n",
              "Mo               968   1  183.744655  455503\n",
              "Sa               783   1  190.209793  477807\n",
              "Su               776   1  177.468825  444027\n",
              "Th               976   1  197.946917  484772\n",
              "Tu               970   1  191.238891  469109\n",
              "We               977   1  191.130505  473048"
            ]
          },
          "execution_count": 31,
          "metadata": {},
          "output_type": "execute_result"
        }
      ],
      "source": [
        "df.groupby(by='Weekday').agg({\n",
        "    'Total_rental':['max',\n",
        "                    'min',\n",
        "                    'mean',\n",
        "                    'sum']\n",
        "})"
      ]
    },
    {
      "cell_type": "markdown",
      "metadata": {
        "id": "gVO5nZ-7yXZ4"
      },
      "source": [
        "- Mengelompokkan data dalam dataframe berdasarkan kolom \"workingday\""
      ]
    },
    {
      "cell_type": "code",
      "execution_count": 32,
      "metadata": {
        "colab": {
          "base_uri": "https://localhost:8080/",
          "height": 143
        },
        "id": "zedUBnzifz7M",
        "outputId": "c59e2e03-dccf-4e56-8860-b8002d05fc52"
      },
      "outputs": [
        {
          "data": {
            "text/html": [
              "<div>\n",
              "<style scoped>\n",
              "    .dataframe tbody tr th:only-of-type {\n",
              "        vertical-align: middle;\n",
              "    }\n",
              "\n",
              "    .dataframe tbody tr th {\n",
              "        vertical-align: top;\n",
              "    }\n",
              "\n",
              "    .dataframe thead th {\n",
              "        text-align: right;\n",
              "    }\n",
              "</style>\n",
              "<table border=\"1\" class=\"dataframe\">\n",
              "  <thead>\n",
              "    <tr style=\"text-align: right;\">\n",
              "      <th></th>\n",
              "      <th>Registered_user</th>\n",
              "      <th>Casual_user</th>\n",
              "      <th>Total_rental</th>\n",
              "    </tr>\n",
              "    <tr>\n",
              "      <th>Workingday</th>\n",
              "      <th></th>\n",
              "      <th></th>\n",
              "      <th></th>\n",
              "    </tr>\n",
              "  </thead>\n",
              "  <tbody>\n",
              "    <tr>\n",
              "      <th>Workingday</th>\n",
              "      <td>1988548</td>\n",
              "      <td>303239</td>\n",
              "      <td>2291787</td>\n",
              "    </tr>\n",
              "    <tr>\n",
              "      <th>Not Workday</th>\n",
              "      <td>683537</td>\n",
              "      <td>316732</td>\n",
              "      <td>1000269</td>\n",
              "    </tr>\n",
              "  </tbody>\n",
              "</table>\n",
              "</div>"
            ],
            "text/plain": [
              "             Registered_user  Casual_user  Total_rental\n",
              "Workingday                                             \n",
              "Workingday           1988548       303239       2291787\n",
              "Not Workday           683537       316732       1000269"
            ]
          },
          "execution_count": 32,
          "metadata": {},
          "output_type": "execute_result"
        }
      ],
      "source": [
        "df.groupby(by=\"Workingday\").agg({\n",
        "    \"Registered_user\": \"sum\",\n",
        "    \"Casual_user\": \"sum\",\n",
        "    \"Total_rental\":  \"sum\"\n",
        "}).sort_values(by=\"Total_rental\", ascending=False)"
      ]
    },
    {
      "cell_type": "markdown",
      "metadata": {
        "id": "jhizvmFjycmy"
      },
      "source": [
        "- Mengelompokkan data dalam dataframe berdasarkan kolom \"holidayr\""
      ]
    },
    {
      "cell_type": "code",
      "execution_count": 33,
      "metadata": {
        "colab": {
          "base_uri": "https://localhost:8080/",
          "height": 143
        },
        "id": "EIKtkDSFf2un",
        "outputId": "7856b079-169e-41b4-dc44-edb13689c5c8"
      },
      "outputs": [
        {
          "data": {
            "text/html": [
              "<div>\n",
              "<style scoped>\n",
              "    .dataframe tbody tr th:only-of-type {\n",
              "        vertical-align: middle;\n",
              "    }\n",
              "\n",
              "    .dataframe tbody tr th {\n",
              "        vertical-align: top;\n",
              "    }\n",
              "\n",
              "    .dataframe thead th {\n",
              "        text-align: right;\n",
              "    }\n",
              "</style>\n",
              "<table border=\"1\" class=\"dataframe\">\n",
              "  <thead>\n",
              "    <tr style=\"text-align: right;\">\n",
              "      <th></th>\n",
              "      <th>Registered_user</th>\n",
              "      <th>Casual_user</th>\n",
              "      <th>Total_rental</th>\n",
              "    </tr>\n",
              "    <tr>\n",
              "      <th>Holiday</th>\n",
              "      <th></th>\n",
              "      <th></th>\n",
              "      <th></th>\n",
              "    </tr>\n",
              "  </thead>\n",
              "  <tbody>\n",
              "    <tr>\n",
              "      <th>Not holiday</th>\n",
              "      <td>2616009</td>\n",
              "      <td>597612</td>\n",
              "      <td>3213621</td>\n",
              "    </tr>\n",
              "    <tr>\n",
              "      <th>Holiday</th>\n",
              "      <td>56076</td>\n",
              "      <td>22359</td>\n",
              "      <td>78435</td>\n",
              "    </tr>\n",
              "  </tbody>\n",
              "</table>\n",
              "</div>"
            ],
            "text/plain": [
              "             Registered_user  Casual_user  Total_rental\n",
              "Holiday                                                \n",
              "Not holiday          2616009       597612       3213621\n",
              "Holiday                56076        22359         78435"
            ]
          },
          "execution_count": 33,
          "metadata": {},
          "output_type": "execute_result"
        }
      ],
      "source": [
        "df.groupby(by=\"Holiday\").agg({\n",
        "    \"Registered_user\": \"sum\",\n",
        "    \"Casual_user\": \"sum\",\n",
        "    \"Total_rental\":  \"sum\"\n",
        "}).sort_values(by=\"Total_rental\", ascending=False)"
      ]
    },
    {
      "cell_type": "markdown",
      "metadata": {
        "id": "96Jsm4OQyfya"
      },
      "source": [
        "- Mengelompokkan data dalam dataframe berdasarkan kolom \"hour\""
      ]
    },
    {
      "cell_type": "code",
      "execution_count": 34,
      "metadata": {
        "colab": {
          "base_uri": "https://localhost:8080/",
          "height": 833
        },
        "id": "O4e947XVf5Fr",
        "outputId": "ef8cfda5-9e01-4a27-c5ed-694a99388781"
      },
      "outputs": [
        {
          "data": {
            "text/html": [
              "<div>\n",
              "<style scoped>\n",
              "    .dataframe tbody tr th:only-of-type {\n",
              "        vertical-align: middle;\n",
              "    }\n",
              "\n",
              "    .dataframe tbody tr th {\n",
              "        vertical-align: top;\n",
              "    }\n",
              "\n",
              "    .dataframe thead th {\n",
              "        text-align: right;\n",
              "    }\n",
              "</style>\n",
              "<table border=\"1\" class=\"dataframe\">\n",
              "  <thead>\n",
              "    <tr style=\"text-align: right;\">\n",
              "      <th></th>\n",
              "      <th>Registered_user</th>\n",
              "      <th>Casual_user</th>\n",
              "      <th>Total_rental</th>\n",
              "    </tr>\n",
              "    <tr>\n",
              "      <th>Hour</th>\n",
              "      <th></th>\n",
              "      <th></th>\n",
              "      <th></th>\n",
              "    </tr>\n",
              "  </thead>\n",
              "  <tbody>\n",
              "    <tr>\n",
              "      <th>17</th>\n",
              "      <td>282531</td>\n",
              "      <td>54218</td>\n",
              "      <td>336749</td>\n",
              "    </tr>\n",
              "    <tr>\n",
              "      <th>18</th>\n",
              "      <td>265196</td>\n",
              "      <td>44494</td>\n",
              "      <td>309690</td>\n",
              "    </tr>\n",
              "    <tr>\n",
              "      <th>8</th>\n",
              "      <td>245197</td>\n",
              "      <td>15760</td>\n",
              "      <td>260957</td>\n",
              "    </tr>\n",
              "    <tr>\n",
              "      <th>16</th>\n",
              "      <td>173894</td>\n",
              "      <td>53833</td>\n",
              "      <td>227727</td>\n",
              "    </tr>\n",
              "    <tr>\n",
              "      <th>19</th>\n",
              "      <td>191233</td>\n",
              "      <td>35500</td>\n",
              "      <td>226733</td>\n",
              "    </tr>\n",
              "    <tr>\n",
              "      <th>13</th>\n",
              "      <td>132195</td>\n",
              "      <td>52712</td>\n",
              "      <td>184907</td>\n",
              "    </tr>\n",
              "    <tr>\n",
              "      <th>12</th>\n",
              "      <td>134666</td>\n",
              "      <td>49714</td>\n",
              "      <td>184380</td>\n",
              "    </tr>\n",
              "    <tr>\n",
              "      <th>15</th>\n",
              "      <td>128532</td>\n",
              "      <td>54603</td>\n",
              "      <td>183135</td>\n",
              "    </tr>\n",
              "    <tr>\n",
              "      <th>14</th>\n",
              "      <td>120551</td>\n",
              "      <td>55089</td>\n",
              "      <td>175640</td>\n",
              "    </tr>\n",
              "    <tr>\n",
              "      <th>20</th>\n",
              "      <td>138143</td>\n",
              "      <td>26369</td>\n",
              "      <td>164512</td>\n",
              "    </tr>\n",
              "    <tr>\n",
              "      <th>9</th>\n",
              "      <td>136957</td>\n",
              "      <td>22457</td>\n",
              "      <td>159414</td>\n",
              "    </tr>\n",
              "    <tr>\n",
              "      <th>7</th>\n",
              "      <td>146098</td>\n",
              "      <td>8036</td>\n",
              "      <td>154134</td>\n",
              "    </tr>\n",
              "    <tr>\n",
              "      <th>11</th>\n",
              "      <td>108029</td>\n",
              "      <td>43280</td>\n",
              "      <td>151309</td>\n",
              "    </tr>\n",
              "    <tr>\n",
              "      <th>10</th>\n",
              "      <td>92451</td>\n",
              "      <td>33789</td>\n",
              "      <td>126240</td>\n",
              "    </tr>\n",
              "    <tr>\n",
              "      <th>21</th>\n",
              "      <td>104848</td>\n",
              "      <td>20569</td>\n",
              "      <td>125417</td>\n",
              "    </tr>\n",
              "    <tr>\n",
              "      <th>22</th>\n",
              "      <td>79382</td>\n",
              "      <td>16196</td>\n",
              "      <td>95578</td>\n",
              "    </tr>\n",
              "    <tr>\n",
              "      <th>23</th>\n",
              "      <td>52850</td>\n",
              "      <td>11064</td>\n",
              "      <td>63914</td>\n",
              "    </tr>\n",
              "    <tr>\n",
              "      <th>6</th>\n",
              "      <td>52103</td>\n",
              "      <td>3017</td>\n",
              "      <td>55120</td>\n",
              "    </tr>\n",
              "    <tr>\n",
              "      <th>0</th>\n",
              "      <td>31755</td>\n",
              "      <td>7372</td>\n",
              "      <td>39127</td>\n",
              "    </tr>\n",
              "    <tr>\n",
              "      <th>1</th>\n",
              "      <td>19453</td>\n",
              "      <td>4709</td>\n",
              "      <td>24162</td>\n",
              "    </tr>\n",
              "    <tr>\n",
              "      <th>2</th>\n",
              "      <td>12939</td>\n",
              "      <td>3412</td>\n",
              "      <td>16351</td>\n",
              "    </tr>\n",
              "    <tr>\n",
              "      <th>5</th>\n",
              "      <td>13247</td>\n",
              "      <td>1011</td>\n",
              "      <td>14258</td>\n",
              "    </tr>\n",
              "    <tr>\n",
              "      <th>3</th>\n",
              "      <td>6281</td>\n",
              "      <td>1893</td>\n",
              "      <td>8174</td>\n",
              "    </tr>\n",
              "    <tr>\n",
              "      <th>4</th>\n",
              "      <td>3554</td>\n",
              "      <td>874</td>\n",
              "      <td>4428</td>\n",
              "    </tr>\n",
              "  </tbody>\n",
              "</table>\n",
              "</div>"
            ],
            "text/plain": [
              "      Registered_user  Casual_user  Total_rental\n",
              "Hour                                            \n",
              "17             282531        54218        336749\n",
              "18             265196        44494        309690\n",
              "8              245197        15760        260957\n",
              "16             173894        53833        227727\n",
              "19             191233        35500        226733\n",
              "13             132195        52712        184907\n",
              "12             134666        49714        184380\n",
              "15             128532        54603        183135\n",
              "14             120551        55089        175640\n",
              "20             138143        26369        164512\n",
              "9              136957        22457        159414\n",
              "7              146098         8036        154134\n",
              "11             108029        43280        151309\n",
              "10              92451        33789        126240\n",
              "21             104848        20569        125417\n",
              "22              79382        16196         95578\n",
              "23              52850        11064         63914\n",
              "6               52103         3017         55120\n",
              "0               31755         7372         39127\n",
              "1               19453         4709         24162\n",
              "2               12939         3412         16351\n",
              "5               13247         1011         14258\n",
              "3                6281         1893          8174\n",
              "4                3554          874          4428"
            ]
          },
          "execution_count": 34,
          "metadata": {},
          "output_type": "execute_result"
        }
      ],
      "source": [
        "df.groupby(by=\"Hour\").agg({\n",
        "    \"Registered_user\": \"sum\",\n",
        "    \"Casual_user\": \"sum\",\n",
        "    \"Total_rental\":  \"sum\"\n",
        "}).sort_values(by=\"Total_rental\", ascending=False)\n"
      ]
    },
    {
      "cell_type": "markdown",
      "metadata": {
        "id": "zsyZjqak8DC2"
      },
      "source": [
        "## Visualization & Explanatory Analysis"
      ]
    },
    {
      "cell_type": "markdown",
      "metadata": {
        "id": "HZxOiQ6n8DC2"
      },
      "source": [
        "### Pertanyaan 1: Bagaimana distribusi penyewaan sepeda berdasarkan waktu pada hari kerja dan hari libur?"
      ]
    },
    {
      "cell_type": "code",
      "execution_count": 35,
      "metadata": {
        "colab": {
          "base_uri": "https://localhost:8080/",
          "height": 564
        },
        "id": "1swJUdAD8DC2",
        "outputId": "61719f9d-ae5c-46c6-d886-a47a4663917c"
      },
      "outputs": [
        {
          "data": {
            "image/png": "[encoded data removed]",
            "text/plain": [
              "<Figure size 1200x600 with 1 Axes>"
            ]
          },
          "metadata": {},
          "output_type": "display_data"
        }
      ],
      "source": [
        "plt.figure(figsize=(12, 6))\n",
        "\n",
        "sns.boxplot(x='Hour', y='Total_rental', hue='Workingday', data=df)\n",
        "\n",
        "plt.title('Distribusi Penyewaan Sepeda Berdasarkan Waktu pada Hari Kerja dan Hari Libur')\n",
        "\n",
        "plt.xlabel('Jam (Hour)')\n",
        "\n",
        "plt.ylabel('Jumlah Penyewaan Sepeda')\n",
        "\n",
        "plt.legend(title='Hari Kerja')\n",
        "\n",
        "plt.show()"
      ]
    },
    {
      "cell_type": "markdown",
      "metadata": {
        "id": "DgHI7CiU8DC2"
      },
      "source": [
        "### Pertanyaan 2: Apakah ada perbedaan pola penyewaan sepeda antara hari kerja dan hari libur?"
      ]
    },
    {
      "cell_type": "code",
      "execution_count": 36,
      "metadata": {
        "colab": {
          "base_uri": "https://localhost:8080/",
          "height": 564
        },
        "id": "Go0lCsvO8DC2",
        "outputId": "050b1f2f-1deb-48c1-fa9d-140fbdd57f11"
      },
      "outputs": [
        {
          "data": {
            "image/png": "[encoded data removed]",
            "text/plain": [
              "<Figure size 1200x600 with 1 Axes>"
            ]
          },
          "metadata": {},
          "output_type": "display_data"
        }
      ],
      "source": [
        "plt.figure(figsize=(12, 6))\n",
        "\n",
        "sns.lineplot(x='Hour', y='Total_rental', hue='Workingday', data=df, ci=None)\n",
        "\n",
        "plt.title('Pola Penyewaan Sepeda antara Hari Kerja dan Hari Libur')\n",
        "\n",
        "plt.xlabel('Jam (Hour)')\n",
        "\n",
        "plt.ylabel('Jumlah Penyewaan Sepeda')\n",
        "\n",
        "plt.legend(title='Hari Kerja')\n",
        "\n",
        "plt.show()"
      ]
    },
    {
      "cell_type": "markdown",
      "metadata": {
        "id": "_WeHlCeX8DC2"
      },
      "source": [
        "## Conclusion"
      ]
    },
    {
      "cell_type": "markdown",
      "metadata": {
        "id": "ZTcyR48Y8DC2"
      },
      "source": [
        "- Penyewaan sepeda pada hari kerja (working day) mengalami fluktuasi tajam pada jam berangkat dan jam pulang kerja . Sedangkan pada hari libur, fluktuasi penyewaan sepeda terjadi pada tengah hari sampai sore.\n",
        "- Pada hari kerja, penyewaan sepeda mengalami peningkatan banyak pada jam 5 sampai 9 pagi dan pada hari libur, penyewaan mengalami peningkatan pada jam 10 sampai jam 3 sore."
      ]
    }
  ],
  "metadata": {
    "colab": {
      "provenance": []
    },
    "kernelspec": {
      "display_name": "env",
      "language": "python",
      "name": "python3"
    },
    "language_info": {
      "codemirror_mode": {
        "name": "ipython",
        "version": 3
      },
      "file_extension": ".py",
      "mimetype": "text/x-python",
      "name": "python",
      "nbconvert_exporter": "python",
      "pygments_lexer": "ipython3",
      "version": "3.11.5"
    },
    "orig_nbformat": 4
  },
  "nbformat": 4,
  "nbformat_minor": 0
}
